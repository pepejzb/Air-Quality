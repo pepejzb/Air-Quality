{
 "cells": [
  {
   "cell_type": "markdown",
   "metadata": {},
   "source": [
    "This dataset only contains information corresponding to the ranking of the 10 cities in Europe with the highest concentration of air pollutants."
   ]
  },
  {
   "cell_type": "markdown",
   "metadata": {},
   "source": [
    "https://www.autobild.es/noticias/10-ciudades-europeas-exceden-limite-contaminacion-espanola-1270120"
   ]
  },
  {
   "cell_type": "code",
   "execution_count": 1,
   "metadata": {},
   "outputs": [
    {
     "name": "stdout",
     "output_type": "stream",
     "text": [
      "Intel MKL WARNING: Support of Intel(R) Streaming SIMD Extensions 4.2 (Intel(R) SSE4.2) enabled only processors has been deprecated. Intel oneAPI Math Kernel Library 2025.0 will require Intel(R) Advanced Vector Extensions (Intel(R) AVX) instructions.\n",
      "Intel MKL WARNING: Support of Intel(R) Streaming SIMD Extensions 4.2 (Intel(R) SSE4.2) enabled only processors has been deprecated. Intel oneAPI Math Kernel Library 2025.0 will require Intel(R) Advanced Vector Extensions (Intel(R) AVX) instructions.\n"
     ]
    }
   ],
   "source": [
    "import pandas as pd\n",
    "import numpy as np"
   ]
  },
  {
   "cell_type": "code",
   "execution_count": 4,
   "metadata": {},
   "outputs": [],
   "source": [
    "data = {'City' : ['Milan', 'Atenas', 'Praga', 'Barcelona', 'Berlín', 'Roma', 'París', 'Bruselas', 'Hamburgo', 'Amsterdam'],\n",
    "        'Pollutant': [19.7, 19.7, 12.7, 12.6, 12.2, 11.7, 11.2, 10.5, 10, 9.5],\n",
    "        'Unit': ['ug/m3','ug/m3','ug/m3','ug/m3','ug/m3','ug/m3','ug/m3','ug/m3','ug/m3','ug/m3']}"
   ]
  },
  {
   "cell_type": "code",
   "execution_count": 5,
   "metadata": {},
   "outputs": [
    {
     "data": {
      "text/html": [
       "<div>\n",
       "<style scoped>\n",
       "    .dataframe tbody tr th:only-of-type {\n",
       "        vertical-align: middle;\n",
       "    }\n",
       "\n",
       "    .dataframe tbody tr th {\n",
       "        vertical-align: top;\n",
       "    }\n",
       "\n",
       "    .dataframe thead th {\n",
       "        text-align: right;\n",
       "    }\n",
       "</style>\n",
       "<table border=\"1\" class=\"dataframe\">\n",
       "  <thead>\n",
       "    <tr style=\"text-align: right;\">\n",
       "      <th></th>\n",
       "      <th>City</th>\n",
       "      <th>Pollutant</th>\n",
       "      <th>Unit</th>\n",
       "    </tr>\n",
       "  </thead>\n",
       "  <tbody>\n",
       "    <tr>\n",
       "      <th>0</th>\n",
       "      <td>Milan</td>\n",
       "      <td>19.7</td>\n",
       "      <td>ug/m3</td>\n",
       "    </tr>\n",
       "    <tr>\n",
       "      <th>1</th>\n",
       "      <td>Atenas</td>\n",
       "      <td>19.7</td>\n",
       "      <td>ug/m3</td>\n",
       "    </tr>\n",
       "    <tr>\n",
       "      <th>2</th>\n",
       "      <td>Praga</td>\n",
       "      <td>12.7</td>\n",
       "      <td>ug/m3</td>\n",
       "    </tr>\n",
       "    <tr>\n",
       "      <th>3</th>\n",
       "      <td>Barcelona</td>\n",
       "      <td>12.6</td>\n",
       "      <td>ug/m3</td>\n",
       "    </tr>\n",
       "    <tr>\n",
       "      <th>4</th>\n",
       "      <td>Berlín</td>\n",
       "      <td>12.2</td>\n",
       "      <td>ug/m3</td>\n",
       "    </tr>\n",
       "    <tr>\n",
       "      <th>5</th>\n",
       "      <td>Roma</td>\n",
       "      <td>11.7</td>\n",
       "      <td>ug/m3</td>\n",
       "    </tr>\n",
       "    <tr>\n",
       "      <th>6</th>\n",
       "      <td>París</td>\n",
       "      <td>11.2</td>\n",
       "      <td>ug/m3</td>\n",
       "    </tr>\n",
       "    <tr>\n",
       "      <th>7</th>\n",
       "      <td>Bruselas</td>\n",
       "      <td>10.5</td>\n",
       "      <td>ug/m3</td>\n",
       "    </tr>\n",
       "    <tr>\n",
       "      <th>8</th>\n",
       "      <td>Hamburgo</td>\n",
       "      <td>10.0</td>\n",
       "      <td>ug/m3</td>\n",
       "    </tr>\n",
       "    <tr>\n",
       "      <th>9</th>\n",
       "      <td>Amsterdam</td>\n",
       "      <td>9.5</td>\n",
       "      <td>ug/m3</td>\n",
       "    </tr>\n",
       "  </tbody>\n",
       "</table>\n",
       "</div>"
      ],
      "text/plain": [
       "        City  Pollutant   Unit\n",
       "0      Milan       19.7  ug/m3\n",
       "1     Atenas       19.7  ug/m3\n",
       "2      Praga       12.7  ug/m3\n",
       "3  Barcelona       12.6  ug/m3\n",
       "4     Berlín       12.2  ug/m3\n",
       "5       Roma       11.7  ug/m3\n",
       "6      París       11.2  ug/m3\n",
       "7   Bruselas       10.5  ug/m3\n",
       "8   Hamburgo       10.0  ug/m3\n",
       "9  Amsterdam        9.5  ug/m3"
      ]
     },
     "execution_count": 5,
     "metadata": {},
     "output_type": "execute_result"
    }
   ],
   "source": [
    "data = pd.DataFrame (data)\n",
    "data"
   ]
  },
  {
   "cell_type": "code",
   "execution_count": 7,
   "metadata": {},
   "outputs": [],
   "source": [
    "data.to_csv ('European Cities Pollutant.csv', index = False)"
   ]
  },
  {
   "cell_type": "code",
   "execution_count": null,
   "metadata": {},
   "outputs": [],
   "source": []
  }
 ],
 "metadata": {
  "kernelspec": {
   "display_name": "Ironhack",
   "language": "python",
   "name": "python3"
  },
  "language_info": {
   "codemirror_mode": {
    "name": "ipython",
    "version": 3
   },
   "file_extension": ".py",
   "mimetype": "text/x-python",
   "name": "python",
   "nbconvert_exporter": "python",
   "pygments_lexer": "ipython3",
   "version": "3.10.11"
  }
 },
 "nbformat": 4,
 "nbformat_minor": 2
}
