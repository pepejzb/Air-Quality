{
 "cells": [
  {
   "cell_type": "markdown",
   "metadata": {},
   "source": [
    "# Public green spaces"
   ]
  },
  {
   "cell_type": "code",
   "execution_count": 1,
   "metadata": {},
   "outputs": [
    {
     "name": "stdout",
     "output_type": "stream",
     "text": [
      "Intel MKL WARNING: Support of Intel(R) Streaming SIMD Extensions 4.2 (Intel(R) SSE4.2) enabled only processors has been deprecated. Intel oneAPI Math Kernel Library 2025.0 will require Intel(R) Advanced Vector Extensions (Intel(R) AVX) instructions.\n",
      "Intel MKL WARNING: Support of Intel(R) Streaming SIMD Extensions 4.2 (Intel(R) SSE4.2) enabled only processors has been deprecated. Intel oneAPI Math Kernel Library 2025.0 will require Intel(R) Advanced Vector Extensions (Intel(R) AVX) instructions.\n"
     ]
    }
   ],
   "source": [
    "# Import libraries\n",
    "import pandas as pd\n",
    "import numpy as np\n",
    "import requests\n",
    "import warnings\n",
    "from datetime import datetime\n",
    "import re\n",
    "warnings.filterwarnings(\"ignore\")\n",
    "import geopandas as gpd\n",
    "pd.options.display.max_columns = 40\n",
    "import seaborn as sns\n",
    "import matplotlib.pyplot as plt"
   ]
  },
  {
   "cell_type": "code",
   "execution_count": 2,
   "metadata": {},
   "outputs": [
    {
     "data": {
      "text/plain": [
       "(190, 36)"
      ]
     },
     "execution_count": 2,
     "metadata": {},
     "output_type": "execute_result"
    }
   ],
   "source": [
    "# Read file\n",
    "public_green_spaces = gpd.read_file('Public Green Spaces.gpkg')\n",
    "# Info\n",
    "public_green_spaces.shape"
   ]
  },
  {
   "cell_type": "code",
   "execution_count": 3,
   "metadata": {},
   "outputs": [
    {
     "data": {
      "text/html": [
       "<div>\n",
       "<style scoped>\n",
       "    .dataframe tbody tr th:only-of-type {\n",
       "        vertical-align: middle;\n",
       "    }\n",
       "\n",
       "    .dataframe tbody tr th {\n",
       "        vertical-align: top;\n",
       "    }\n",
       "\n",
       "    .dataframe thead th {\n",
       "        text-align: right;\n",
       "    }\n",
       "</style>\n",
       "<table border=\"1\" class=\"dataframe\">\n",
       "  <thead>\n",
       "    <tr style=\"text-align: right;\">\n",
       "      <th></th>\n",
       "      <th>cartodb_id</th>\n",
       "      <th>objectid</th>\n",
       "      <th>nom</th>\n",
       "      <th>municipi</th>\n",
       "      <th>tipus</th>\n",
       "      <th>area_ha</th>\n",
       "      <th>districte</th>\n",
       "      <th>codi</th>\n",
       "      <th>compacitat</th>\n",
       "      <th>mida</th>\n",
       "      <th>fet</th>\n",
       "      <th>ndvi</th>\n",
       "      <th>gestio</th>\n",
       "      <th>near_fores</th>\n",
       "      <th>districte_</th>\n",
       "      <th>id</th>\n",
       "      <th>id2</th>\n",
       "      <th>near_metro</th>\n",
       "      <th>near_bus</th>\n",
       "      <th>near_fcgc</th>\n",
       "      <th>near_renfe</th>\n",
       "      <th>near_tramv</th>\n",
       "      <th>rao_no_fet</th>\n",
       "      <th>near_mar</th>\n",
       "      <th>near_colls</th>\n",
       "      <th>fets_bcn_b</th>\n",
       "      <th>muni_codi</th>\n",
       "      <th>treball_am</th>\n",
       "      <th>codi_bcn_b</th>\n",
       "      <th>codi_1</th>\n",
       "      <th>modificat_</th>\n",
       "      <th>codi_vell</th>\n",
       "      <th>shape_leng</th>\n",
       "      <th>shape_area</th>\n",
       "      <th>codi_merge</th>\n",
       "      <th>geometry</th>\n",
       "    </tr>\n",
       "  </thead>\n",
       "  <tbody>\n",
       "    <tr>\n",
       "      <th>0</th>\n",
       "      <td>16</td>\n",
       "      <td>1</td>\n",
       "      <td>Jardins de Can Mantega</td>\n",
       "      <td>Barcelona</td>\n",
       "      <td>Parc</td>\n",
       "      <td>0.895251</td>\n",
       "      <td>Sants-Montjuïc</td>\n",
       "      <td>SMO001</td>\n",
       "      <td>23.304577</td>\n",
       "      <td>0.5 - 1 Ha</td>\n",
       "      <td>1</td>\n",
       "      <td>0.0</td>\n",
       "      <td>NaN</td>\n",
       "      <td>2341.049604</td>\n",
       "      <td>SMO</td>\n",
       "      <td>1.0</td>\n",
       "      <td>1</td>\n",
       "      <td>342.369555</td>\n",
       "      <td>131.392523</td>\n",
       "      <td>1306.930570</td>\n",
       "      <td>576</td>\n",
       "      <td>1061.943229</td>\n",
       "      <td>NaN</td>\n",
       "      <td>1.0</td>\n",
       "      <td>2387.972571</td>\n",
       "      <td>SI</td>\n",
       "      <td>SMO</td>\n",
       "      <td>NO</td>\n",
       "      <td>SMO001</td>\n",
       "      <td>SMO001</td>\n",
       "      <td>NaN</td>\n",
       "      <td>SMO001</td>\n",
       "      <td>384.152406</td>\n",
       "      <td>8952.509260</td>\n",
       "      <td>SMO001</td>\n",
       "      <td>MULTIPOLYGON (((427469.578 4581120.708, 427456...</td>\n",
       "    </tr>\n",
       "    <tr>\n",
       "      <th>1</th>\n",
       "      <td>18</td>\n",
       "      <td>2</td>\n",
       "      <td>Jardins de Málaga</td>\n",
       "      <td>Barcelona</td>\n",
       "      <td>Parc</td>\n",
       "      <td>0.651736</td>\n",
       "      <td>Sants-Montjuïc</td>\n",
       "      <td>SMO002</td>\n",
       "      <td>12.605915</td>\n",
       "      <td>0.5 - 1 Ha</td>\n",
       "      <td>1</td>\n",
       "      <td>0.0</td>\n",
       "      <td>NaN</td>\n",
       "      <td>2553.002867</td>\n",
       "      <td>SMO</td>\n",
       "      <td>2.0</td>\n",
       "      <td>2</td>\n",
       "      <td>12.530790</td>\n",
       "      <td>15.995031</td>\n",
       "      <td>1061.924149</td>\n",
       "      <td>331</td>\n",
       "      <td>882.135426</td>\n",
       "      <td>NaN</td>\n",
       "      <td>1.0</td>\n",
       "      <td>2663.536753</td>\n",
       "      <td>SI</td>\n",
       "      <td>SMO</td>\n",
       "      <td>NO</td>\n",
       "      <td>SMO002</td>\n",
       "      <td>SMO002</td>\n",
       "      <td>NaN</td>\n",
       "      <td>SMO002</td>\n",
       "      <td>517.007722</td>\n",
       "      <td>6517.355167</td>\n",
       "      <td>SMO002</td>\n",
       "      <td>MULTIPOLYGON (((428135.706 4581620.165, 428126...</td>\n",
       "    </tr>\n",
       "    <tr>\n",
       "      <th>2</th>\n",
       "      <td>19</td>\n",
       "      <td>3</td>\n",
       "      <td>Jardins de Celestina Vigneaux</td>\n",
       "      <td>Barcelona</td>\n",
       "      <td>Parc</td>\n",
       "      <td>0.702333</td>\n",
       "      <td>Sants-Montjuïc</td>\n",
       "      <td>SMO006</td>\n",
       "      <td>14.159021</td>\n",
       "      <td>0.5 - 1 Ha</td>\n",
       "      <td>1</td>\n",
       "      <td>0.0</td>\n",
       "      <td>NaN</td>\n",
       "      <td>1288.118873</td>\n",
       "      <td>SMO</td>\n",
       "      <td>6.0</td>\n",
       "      <td>6</td>\n",
       "      <td>383.723863</td>\n",
       "      <td>24.427341</td>\n",
       "      <td>398.307149</td>\n",
       "      <td>810</td>\n",
       "      <td>2103.839400</td>\n",
       "      <td>NaN</td>\n",
       "      <td>1.0</td>\n",
       "      <td>2395.164286</td>\n",
       "      <td>SI</td>\n",
       "      <td>SMO</td>\n",
       "      <td>NO</td>\n",
       "      <td>SMO006</td>\n",
       "      <td>SMO006</td>\n",
       "      <td>NaN</td>\n",
       "      <td>SMO006</td>\n",
       "      <td>496.032131</td>\n",
       "      <td>7023.329520</td>\n",
       "      <td>SMO006</td>\n",
       "      <td>MULTIPOLYGON (((428243.855 4580349.333, 428238...</td>\n",
       "    </tr>\n",
       "    <tr>\n",
       "      <th>3</th>\n",
       "      <td>1</td>\n",
       "      <td>4</td>\n",
       "      <td>Jardins del Valent Petit</td>\n",
       "      <td>Barcelona</td>\n",
       "      <td>Parc</td>\n",
       "      <td>0.886938</td>\n",
       "      <td>Sants-Montjuïc</td>\n",
       "      <td>SMO008</td>\n",
       "      <td>23.022381</td>\n",
       "      <td>0.5 - 1 Ha</td>\n",
       "      <td>1</td>\n",
       "      <td>0.0</td>\n",
       "      <td>NaN</td>\n",
       "      <td>1061.868912</td>\n",
       "      <td>SMO</td>\n",
       "      <td>8.0</td>\n",
       "      <td>8</td>\n",
       "      <td>279.028734</td>\n",
       "      <td>76.825440</td>\n",
       "      <td>397.878877</td>\n",
       "      <td>1536</td>\n",
       "      <td>2249.230041</td>\n",
       "      <td>NaN</td>\n",
       "      <td>1.0</td>\n",
       "      <td>1609.888884</td>\n",
       "      <td>SI</td>\n",
       "      <td>SMO</td>\n",
       "      <td>NO</td>\n",
       "      <td>SMO008</td>\n",
       "      <td>SMO008</td>\n",
       "      <td>NaN</td>\n",
       "      <td>SMO008</td>\n",
       "      <td>385.250215</td>\n",
       "      <td>8869.377381</td>\n",
       "      <td>SMO008</td>\n",
       "      <td>MULTIPOLYGON (((427611.583 4579611.724, 427601...</td>\n",
       "    </tr>\n",
       "    <tr>\n",
       "      <th>4</th>\n",
       "      <td>20</td>\n",
       "      <td>5</td>\n",
       "      <td>Parc de Can Sabaté</td>\n",
       "      <td>Barcelona</td>\n",
       "      <td>Parc</td>\n",
       "      <td>1.939619</td>\n",
       "      <td>Sants-Montjuïc</td>\n",
       "      <td>SMO009</td>\n",
       "      <td>24.561116</td>\n",
       "      <td>1 - 2 Ha</td>\n",
       "      <td>1</td>\n",
       "      <td>0.0</td>\n",
       "      <td>NaN</td>\n",
       "      <td>552.969088</td>\n",
       "      <td>SMO</td>\n",
       "      <td>9.0</td>\n",
       "      <td>9</td>\n",
       "      <td>79.520859</td>\n",
       "      <td>31.388393</td>\n",
       "      <td>347.184932</td>\n",
       "      <td>1633</td>\n",
       "      <td>2630.114963</td>\n",
       "      <td>NaN</td>\n",
       "      <td>1.0</td>\n",
       "      <td>1399.901317</td>\n",
       "      <td>SI</td>\n",
       "      <td>SMO</td>\n",
       "      <td>NO</td>\n",
       "      <td>SMO009</td>\n",
       "      <td>SMO009</td>\n",
       "      <td>NaN</td>\n",
       "      <td>SMO009</td>\n",
       "      <td>789.711341</td>\n",
       "      <td>19396.191905</td>\n",
       "      <td>SMO009</td>\n",
       "      <td>MULTIPOLYGON (((427908.040 4579530.346, 427909...</td>\n",
       "    </tr>\n",
       "  </tbody>\n",
       "</table>\n",
       "</div>"
      ],
      "text/plain": [
       "   cartodb_id  objectid                            nom   municipi tipus  \\\n",
       "0          16         1         Jardins de Can Mantega  Barcelona  Parc   \n",
       "1          18         2              Jardins de Málaga  Barcelona  Parc   \n",
       "2          19         3  Jardins de Celestina Vigneaux  Barcelona  Parc   \n",
       "3           1         4       Jardins del Valent Petit  Barcelona  Parc   \n",
       "4          20         5             Parc de Can Sabaté  Barcelona  Parc   \n",
       "\n",
       "    area_ha       districte    codi  compacitat        mida  fet  ndvi gestio  \\\n",
       "0  0.895251  Sants-Montjuïc  SMO001   23.304577  0.5 - 1 Ha    1   0.0    NaN   \n",
       "1  0.651736  Sants-Montjuïc  SMO002   12.605915  0.5 - 1 Ha    1   0.0    NaN   \n",
       "2  0.702333  Sants-Montjuïc  SMO006   14.159021  0.5 - 1 Ha    1   0.0    NaN   \n",
       "3  0.886938  Sants-Montjuïc  SMO008   23.022381  0.5 - 1 Ha    1   0.0    NaN   \n",
       "4  1.939619  Sants-Montjuïc  SMO009   24.561116    1 - 2 Ha    1   0.0    NaN   \n",
       "\n",
       "    near_fores districte_   id id2  near_metro    near_bus    near_fcgc  \\\n",
       "0  2341.049604        SMO  1.0   1  342.369555  131.392523  1306.930570   \n",
       "1  2553.002867        SMO  2.0   2   12.530790   15.995031  1061.924149   \n",
       "2  1288.118873        SMO  6.0   6  383.723863   24.427341   398.307149   \n",
       "3  1061.868912        SMO  8.0   8  279.028734   76.825440   397.878877   \n",
       "4   552.969088        SMO  9.0   9   79.520859   31.388393   347.184932   \n",
       "\n",
       "   near_renfe   near_tramv rao_no_fet  near_mar   near_colls fets_bcn_b  \\\n",
       "0         576  1061.943229        NaN       1.0  2387.972571         SI   \n",
       "1         331   882.135426        NaN       1.0  2663.536753         SI   \n",
       "2         810  2103.839400        NaN       1.0  2395.164286         SI   \n",
       "3        1536  2249.230041        NaN       1.0  1609.888884         SI   \n",
       "4        1633  2630.114963        NaN       1.0  1399.901317         SI   \n",
       "\n",
       "  muni_codi treball_am codi_bcn_b  codi_1 modificat_ codi_vell  shape_leng  \\\n",
       "0       SMO         NO     SMO001  SMO001        NaN    SMO001  384.152406   \n",
       "1       SMO         NO     SMO002  SMO002        NaN    SMO002  517.007722   \n",
       "2       SMO         NO     SMO006  SMO006        NaN    SMO006  496.032131   \n",
       "3       SMO         NO     SMO008  SMO008        NaN    SMO008  385.250215   \n",
       "4       SMO         NO     SMO009  SMO009        NaN    SMO009  789.711341   \n",
       "\n",
       "     shape_area codi_merge                                           geometry  \n",
       "0   8952.509260     SMO001  MULTIPOLYGON (((427469.578 4581120.708, 427456...  \n",
       "1   6517.355167     SMO002  MULTIPOLYGON (((428135.706 4581620.165, 428126...  \n",
       "2   7023.329520     SMO006  MULTIPOLYGON (((428243.855 4580349.333, 428238...  \n",
       "3   8869.377381     SMO008  MULTIPOLYGON (((427611.583 4579611.724, 427601...  \n",
       "4  19396.191905     SMO009  MULTIPOLYGON (((427908.040 4579530.346, 427909...  "
      ]
     },
     "execution_count": 3,
     "metadata": {},
     "output_type": "execute_result"
    }
   ],
   "source": [
    "public_green_spaces.head (5)"
   ]
  },
  {
   "cell_type": "code",
   "execution_count": 4,
   "metadata": {},
   "outputs": [
    {
     "data": {
      "text/plain": [
       "Index(['municipi', 'tipus', 'area_ha', 'districte', 'codi', 'mida'], dtype='object')"
      ]
     },
     "execution_count": 4,
     "metadata": {},
     "output_type": "execute_result"
    }
   ],
   "source": [
    "# Drop columns\n",
    "public_green_spaces = public_green_spaces.drop(columns=['cartodb_id', 'objectid','nom','compacitat','fet','ndvi', 'gestio','near_fores','districte_','id','id2','near_metro','near_bus',\n",
    "                                                         'near_fcgc','near_renfe', 'near_tramv', 'rao_no_fet', 'near_mar', 'near_colls', 'fets_bcn_b', 'muni_codi','treball_am', 'codi_bcn_b',\n",
    "                                                         'codi_1', 'modificat_', 'codi_vell', 'shape_leng', 'shape_area', 'codi_merge', 'geometry'])\n",
    "public_green_spaces.columns"
   ]
  },
  {
   "cell_type": "code",
   "execution_count": 5,
   "metadata": {},
   "outputs": [
    {
     "data": {
      "text/html": [
       "<div>\n",
       "<style scoped>\n",
       "    .dataframe tbody tr th:only-of-type {\n",
       "        vertical-align: middle;\n",
       "    }\n",
       "\n",
       "    .dataframe tbody tr th {\n",
       "        vertical-align: top;\n",
       "    }\n",
       "\n",
       "    .dataframe thead th {\n",
       "        text-align: right;\n",
       "    }\n",
       "</style>\n",
       "<table border=\"1\" class=\"dataframe\">\n",
       "  <thead>\n",
       "    <tr style=\"text-align: right;\">\n",
       "      <th></th>\n",
       "      <th>municipi</th>\n",
       "      <th>tipus</th>\n",
       "      <th>area_ha</th>\n",
       "      <th>districte</th>\n",
       "      <th>codi</th>\n",
       "      <th>mida</th>\n",
       "    </tr>\n",
       "  </thead>\n",
       "  <tbody>\n",
       "    <tr>\n",
       "      <th>0</th>\n",
       "      <td>Barcelona</td>\n",
       "      <td>Parc</td>\n",
       "      <td>0.895251</td>\n",
       "      <td>Sants-Montjuïc</td>\n",
       "      <td>SMO001</td>\n",
       "      <td>0.5 - 1 Ha</td>\n",
       "    </tr>\n",
       "    <tr>\n",
       "      <th>1</th>\n",
       "      <td>Barcelona</td>\n",
       "      <td>Parc</td>\n",
       "      <td>0.651736</td>\n",
       "      <td>Sants-Montjuïc</td>\n",
       "      <td>SMO002</td>\n",
       "      <td>0.5 - 1 Ha</td>\n",
       "    </tr>\n",
       "    <tr>\n",
       "      <th>2</th>\n",
       "      <td>Barcelona</td>\n",
       "      <td>Parc</td>\n",
       "      <td>0.702333</td>\n",
       "      <td>Sants-Montjuïc</td>\n",
       "      <td>SMO006</td>\n",
       "      <td>0.5 - 1 Ha</td>\n",
       "    </tr>\n",
       "    <tr>\n",
       "      <th>3</th>\n",
       "      <td>Barcelona</td>\n",
       "      <td>Parc</td>\n",
       "      <td>0.886938</td>\n",
       "      <td>Sants-Montjuïc</td>\n",
       "      <td>SMO008</td>\n",
       "      <td>0.5 - 1 Ha</td>\n",
       "    </tr>\n",
       "    <tr>\n",
       "      <th>4</th>\n",
       "      <td>Barcelona</td>\n",
       "      <td>Parc</td>\n",
       "      <td>1.939619</td>\n",
       "      <td>Sants-Montjuïc</td>\n",
       "      <td>SMO009</td>\n",
       "      <td>1 - 2 Ha</td>\n",
       "    </tr>\n",
       "  </tbody>\n",
       "</table>\n",
       "</div>"
      ],
      "text/plain": [
       "    municipi tipus   area_ha       districte    codi        mida\n",
       "0  Barcelona  Parc  0.895251  Sants-Montjuïc  SMO001  0.5 - 1 Ha\n",
       "1  Barcelona  Parc  0.651736  Sants-Montjuïc  SMO002  0.5 - 1 Ha\n",
       "2  Barcelona  Parc  0.702333  Sants-Montjuïc  SMO006  0.5 - 1 Ha\n",
       "3  Barcelona  Parc  0.886938  Sants-Montjuïc  SMO008  0.5 - 1 Ha\n",
       "4  Barcelona  Parc  1.939619  Sants-Montjuïc  SMO009    1 - 2 Ha"
      ]
     },
     "execution_count": 5,
     "metadata": {},
     "output_type": "execute_result"
    }
   ],
   "source": [
    "public_green_spaces.head (5)"
   ]
  },
  {
   "cell_type": "code",
   "execution_count": 6,
   "metadata": {},
   "outputs": [
    {
     "data": {
      "text/html": [
       "<div>\n",
       "<style scoped>\n",
       "    .dataframe tbody tr th:only-of-type {\n",
       "        vertical-align: middle;\n",
       "    }\n",
       "\n",
       "    .dataframe tbody tr th {\n",
       "        vertical-align: top;\n",
       "    }\n",
       "\n",
       "    .dataframe thead th {\n",
       "        text-align: right;\n",
       "    }\n",
       "</style>\n",
       "<table border=\"1\" class=\"dataframe\">\n",
       "  <thead>\n",
       "    <tr style=\"text-align: right;\">\n",
       "      <th></th>\n",
       "      <th>column_name</th>\n",
       "      <th>Percentage Null Values</th>\n",
       "    </tr>\n",
       "  </thead>\n",
       "  <tbody>\n",
       "    <tr>\n",
       "      <th>3</th>\n",
       "      <td>districte</td>\n",
       "      <td>0.042105</td>\n",
       "    </tr>\n",
       "    <tr>\n",
       "      <th>0</th>\n",
       "      <td>municipi</td>\n",
       "      <td>0.000000</td>\n",
       "    </tr>\n",
       "    <tr>\n",
       "      <th>1</th>\n",
       "      <td>tipus</td>\n",
       "      <td>0.000000</td>\n",
       "    </tr>\n",
       "    <tr>\n",
       "      <th>2</th>\n",
       "      <td>area_ha</td>\n",
       "      <td>0.000000</td>\n",
       "    </tr>\n",
       "    <tr>\n",
       "      <th>4</th>\n",
       "      <td>codi</td>\n",
       "      <td>0.000000</td>\n",
       "    </tr>\n",
       "    <tr>\n",
       "      <th>5</th>\n",
       "      <td>mida</td>\n",
       "      <td>0.000000</td>\n",
       "    </tr>\n",
       "  </tbody>\n",
       "</table>\n",
       "</div>"
      ],
      "text/plain": [
       "  column_name  Percentage Null Values\n",
       "3   districte                0.042105\n",
       "0    municipi                0.000000\n",
       "1       tipus                0.000000\n",
       "2     area_ha                0.000000\n",
       "4        codi                0.000000\n",
       "5        mida                0.000000"
      ]
     },
     "execution_count": 6,
     "metadata": {},
     "output_type": "execute_result"
    }
   ],
   "source": [
    "# Checking for null values\n",
    "nulls = pd.DataFrame(public_green_spaces.isna().sum()/len(public_green_spaces))\n",
    "nulls= nulls.reset_index()\n",
    "nulls.columns = ['column_name', 'Percentage Null Values']\n",
    "nulls.sort_values(by='Percentage Null Values', ascending = False)"
   ]
  },
  {
   "cell_type": "code",
   "execution_count": 7,
   "metadata": {},
   "outputs": [
    {
     "data": {
      "text/plain": [
       "Barcelona                    182\n",
       "l'Hospitalet de Llobregat      4\n",
       "Sant Adrià de Besòs            2\n",
       "El Prat de Llobregat           1\n",
       "Santa Coloma de Gramanet       1\n",
       "Name: municipi, dtype: int64"
      ]
     },
     "execution_count": 7,
     "metadata": {},
     "output_type": "execute_result"
    }
   ],
   "source": [
    "public_green_spaces['municipi'].value_counts ()"
   ]
  },
  {
   "cell_type": "code",
   "execution_count": 8,
   "metadata": {},
   "outputs": [
    {
     "data": {
      "text/plain": [
       "Parc             137\n",
       "Plaça             30\n",
       "Parc Històric     14\n",
       "Interior illa      9\n",
       "Name: tipus, dtype: int64"
      ]
     },
     "execution_count": 8,
     "metadata": {},
     "output_type": "execute_result"
    }
   ],
   "source": [
    "public_green_spaces['tipus'].value_counts ()"
   ]
  },
  {
   "cell_type": "code",
   "execution_count": 9,
   "metadata": {},
   "outputs": [
    {
     "data": {
      "text/plain": [
       "0.5 - 1 Ha    84\n",
       ">= 2 Ha       57\n",
       "1 - 2 Ha      49\n",
       "Name: mida, dtype: int64"
      ]
     },
     "execution_count": 9,
     "metadata": {},
     "output_type": "execute_result"
    }
   ],
   "source": [
    "public_green_spaces['mida'].value_counts ()"
   ]
  },
  {
   "cell_type": "code",
   "execution_count": 10,
   "metadata": {},
   "outputs": [
    {
     "data": {
      "text/plain": [
       "Text(0.5, 1.0, 'Distribución de Tipos por Área')"
      ]
     },
     "execution_count": 10,
     "metadata": {},
     "output_type": "execute_result"
    },
    {
     "data": {
      "image/png": "[encoded data removed]",
      "text/plain": [
       "<Figure size 1000x200 with 1 Axes>"
      ]
     },
     "metadata": {},
     "output_type": "display_data"
    }
   ],
   "source": [
    "# Crear un scatter plot\n",
    "plt.figure(figsize=(10, 2))\n",
    "sns.scatterplot(x='area_ha', y ='tipus', data = public_green_spaces, hue = 'tipus')\n",
    "\n",
    "# Añadir etiquetas y título\n",
    "plt.xlabel('Área (ha)')\n",
    "plt.ylabel('Tipo')\n",
    "plt.title('Distribución de Tipos por Área')"
   ]
  },
  {
   "cell_type": "code",
   "execution_count": 11,
   "metadata": {},
   "outputs": [
    {
     "data": {
      "text/plain": [
       "(0.508118124882, 21.7051305225)"
      ]
     },
     "execution_count": 11,
     "metadata": {},
     "output_type": "execute_result"
    }
   ],
   "source": [
    "public_green_spaces['area_ha'].min (), public_green_spaces['area_ha'].max ()"
   ]
  },
  {
   "cell_type": "code",
   "execution_count": 12,
   "metadata": {},
   "outputs": [
    {
     "data": {
      "text/plain": [
       "Sants-Montjuïc           36\n",
       "Sant Martí               28\n",
       "Horta-Guinardó           21\n",
       "Sarrià - Sant Gervasi    18\n",
       "Nou Barris               18\n",
       "Corts                    17\n",
       "Sant Andreu              16\n",
       "Eixample                 11\n",
       "Sarria-Sant Gervasi       5\n",
       "Ciutat Vella              4\n",
       "Gracia                    3\n",
       "Sants-Montjuic            3\n",
       "Graçia                    1\n",
       "SarriaGervasi             1\n",
       "Name: districte, dtype: int64"
      ]
     },
     "execution_count": 12,
     "metadata": {},
     "output_type": "execute_result"
    }
   ],
   "source": [
    "public_green_spaces['districte'].value_counts ()"
   ]
  },
  {
   "cell_type": "code",
   "execution_count": 13,
   "metadata": {},
   "outputs": [
    {
     "data": {
      "text/plain": [
       "(190, 6)"
      ]
     },
     "execution_count": 13,
     "metadata": {},
     "output_type": "execute_result"
    }
   ],
   "source": [
    "public_green_spaces.shape"
   ]
  },
  {
   "cell_type": "code",
   "execution_count": 14,
   "metadata": {},
   "outputs": [],
   "source": [
    "# Delete rows\n",
    "public_green_spaces = public_green_spaces[public_green_spaces['municipi'] != \"l'Hospitalet de Llobregat\"]\n",
    "public_green_spaces = public_green_spaces[public_green_spaces['municipi'] != \"Sant Adrià de Besòs\"]\n",
    "public_green_spaces = public_green_spaces[public_green_spaces['municipi'] != \"El Prat de Llobregat\"]"
   ]
  },
  {
   "cell_type": "code",
   "execution_count": 15,
   "metadata": {},
   "outputs": [
    {
     "data": {
      "text/plain": [
       "Barcelona                   182\n",
       "Santa Coloma de Gramanet      1\n",
       "Name: municipi, dtype: int64"
      ]
     },
     "execution_count": 15,
     "metadata": {},
     "output_type": "execute_result"
    }
   ],
   "source": [
    "public_green_spaces['municipi'].value_counts ()"
   ]
  },
  {
   "cell_type": "code",
   "execution_count": 16,
   "metadata": {},
   "outputs": [
    {
     "data": {
      "text/plain": [
       "(183, 6)"
      ]
     },
     "execution_count": 16,
     "metadata": {},
     "output_type": "execute_result"
    }
   ],
   "source": [
    "public_green_spaces.shape"
   ]
  },
  {
   "cell_type": "code",
   "execution_count": 17,
   "metadata": {},
   "outputs": [
    {
     "data": {
      "text/plain": [
       "municipi     0\n",
       "tipus        0\n",
       "area_ha      0\n",
       "districte    1\n",
       "codi         0\n",
       "mida         0\n",
       "dtype: int64"
      ]
     },
     "execution_count": 17,
     "metadata": {},
     "output_type": "execute_result"
    }
   ],
   "source": [
    "public_green_spaces.isna().sum()"
   ]
  },
  {
   "cell_type": "code",
   "execution_count": 18,
   "metadata": {},
   "outputs": [],
   "source": [
    "public_green_spaces = public_green_spaces.dropna ()"
   ]
  },
  {
   "cell_type": "code",
   "execution_count": 19,
   "metadata": {},
   "outputs": [
    {
     "data": {
      "text/plain": [
       "(182, 6)"
      ]
     },
     "execution_count": 19,
     "metadata": {},
     "output_type": "execute_result"
    }
   ],
   "source": [
    "public_green_spaces.shape"
   ]
  },
  {
   "cell_type": "code",
   "execution_count": 20,
   "metadata": {},
   "outputs": [
    {
     "data": {
      "text/plain": [
       "182"
      ]
     },
     "execution_count": 20,
     "metadata": {},
     "output_type": "execute_result"
    }
   ],
   "source": [
    "public_green_spaces['codi'].nunique ()"
   ]
  },
  {
   "cell_type": "code",
   "execution_count": 21,
   "metadata": {},
   "outputs": [
    {
     "data": {
      "text/html": [
       "<div>\n",
       "<style scoped>\n",
       "    .dataframe tbody tr th:only-of-type {\n",
       "        vertical-align: middle;\n",
       "    }\n",
       "\n",
       "    .dataframe tbody tr th {\n",
       "        vertical-align: top;\n",
       "    }\n",
       "\n",
       "    .dataframe thead th {\n",
       "        text-align: right;\n",
       "    }\n",
       "</style>\n",
       "<table border=\"1\" class=\"dataframe\">\n",
       "  <thead>\n",
       "    <tr style=\"text-align: right;\">\n",
       "      <th></th>\n",
       "      <th>municipi</th>\n",
       "      <th>tipus</th>\n",
       "      <th>area_ha</th>\n",
       "      <th>districte</th>\n",
       "      <th>mida</th>\n",
       "    </tr>\n",
       "  </thead>\n",
       "  <tbody>\n",
       "    <tr>\n",
       "      <th>0</th>\n",
       "      <td>Barcelona</td>\n",
       "      <td>Parc</td>\n",
       "      <td>0.895251</td>\n",
       "      <td>Sants-Montjuïc</td>\n",
       "      <td>0.5 - 1 Ha</td>\n",
       "    </tr>\n",
       "    <tr>\n",
       "      <th>1</th>\n",
       "      <td>Barcelona</td>\n",
       "      <td>Parc</td>\n",
       "      <td>0.651736</td>\n",
       "      <td>Sants-Montjuïc</td>\n",
       "      <td>0.5 - 1 Ha</td>\n",
       "    </tr>\n",
       "    <tr>\n",
       "      <th>2</th>\n",
       "      <td>Barcelona</td>\n",
       "      <td>Parc</td>\n",
       "      <td>0.702333</td>\n",
       "      <td>Sants-Montjuïc</td>\n",
       "      <td>0.5 - 1 Ha</td>\n",
       "    </tr>\n",
       "    <tr>\n",
       "      <th>3</th>\n",
       "      <td>Barcelona</td>\n",
       "      <td>Parc</td>\n",
       "      <td>0.886938</td>\n",
       "      <td>Sants-Montjuïc</td>\n",
       "      <td>0.5 - 1 Ha</td>\n",
       "    </tr>\n",
       "    <tr>\n",
       "      <th>4</th>\n",
       "      <td>Barcelona</td>\n",
       "      <td>Parc</td>\n",
       "      <td>1.939619</td>\n",
       "      <td>Sants-Montjuïc</td>\n",
       "      <td>1 - 2 Ha</td>\n",
       "    </tr>\n",
       "  </tbody>\n",
       "</table>\n",
       "</div>"
      ],
      "text/plain": [
       "    municipi tipus   area_ha       districte        mida\n",
       "0  Barcelona  Parc  0.895251  Sants-Montjuïc  0.5 - 1 Ha\n",
       "1  Barcelona  Parc  0.651736  Sants-Montjuïc  0.5 - 1 Ha\n",
       "2  Barcelona  Parc  0.702333  Sants-Montjuïc  0.5 - 1 Ha\n",
       "3  Barcelona  Parc  0.886938  Sants-Montjuïc  0.5 - 1 Ha\n",
       "4  Barcelona  Parc  1.939619  Sants-Montjuïc    1 - 2 Ha"
      ]
     },
     "execution_count": 21,
     "metadata": {},
     "output_type": "execute_result"
    }
   ],
   "source": [
    "\n",
    "public_green_spaces = public_green_spaces.drop(columns=['codi'])\n",
    "public_green_spaces.head (5)"
   ]
  },
  {
   "cell_type": "code",
   "execution_count": 22,
   "metadata": {},
   "outputs": [],
   "source": [
    "public_green_spaces ['districte'] = public_green_spaces ['districte'].replace ({\n",
    "    'Gracia' : 'GRÀCIA',\n",
    "    'Graçia' : 'GRÀCIA',\n",
    "    'Sants-Montjuïc' : 'SANTS - MONTJUÏC',\n",
    "    'Sants-Montjuic' : 'SANTS - MONTJUÏC',\n",
    "    'Corts': 'LES CORTS',\n",
    "    'Sant Martí': 'SANT MARTÍ',\n",
    "    'Nou Barris': 'NOU BARRIS - SANT ANDREU',\n",
    "    'Sant Andreu' : 'NOU BARRIS - SANT ANDREU',\n",
    "    'Horta-Guinardó': 'HORTA - GUINARDÓ',\n",
    "    'Eixample': 'EIXAMPLE',\n",
    "    'SarriaGervasi': 'SARRIÀ - SANT GERVASI',\n",
    "    'Sarrià - Sant Gervasi': 'SARRIÀ - SANT GERVASI',\n",
    "    'Sarria-Sant Gervasi': 'SARRIÀ - SANT GERVASI',\n",
    "    'SarriaGervasi': 'SARRIÀ - SANT GERVASI',\n",
    "    'Ciutat Vella': 'CIUTAT VELLA'})"
   ]
  },
  {
   "cell_type": "code",
   "execution_count": 23,
   "metadata": {},
   "outputs": [
    {
     "data": {
      "text/plain": [
       "SANTS - MONTJUÏC            39\n",
       "NOU BARRIS - SANT ANDREU    34\n",
       "SANT MARTÍ                  28\n",
       "SARRIÀ - SANT GERVASI       24\n",
       "HORTA - GUINARDÓ            21\n",
       "LES CORTS                   17\n",
       "EIXAMPLE                    11\n",
       "GRÀCIA                       4\n",
       "CIUTAT VELLA                 4\n",
       "Name: districte, dtype: int64"
      ]
     },
     "execution_count": 23,
     "metadata": {},
     "output_type": "execute_result"
    }
   ],
   "source": [
    "public_green_spaces ['districte'].value_counts ()"
   ]
  },
  {
   "cell_type": "code",
   "execution_count": 24,
   "metadata": {},
   "outputs": [
    {
     "data": {
      "text/html": [
       "<div>\n",
       "<style scoped>\n",
       "    .dataframe tbody tr th:only-of-type {\n",
       "        vertical-align: middle;\n",
       "    }\n",
       "\n",
       "    .dataframe tbody tr th {\n",
       "        vertical-align: top;\n",
       "    }\n",
       "\n",
       "    .dataframe thead th {\n",
       "        text-align: right;\n",
       "    }\n",
       "</style>\n",
       "<table border=\"1\" class=\"dataframe\">\n",
       "  <thead>\n",
       "    <tr style=\"text-align: right;\">\n",
       "      <th></th>\n",
       "      <th>municipi</th>\n",
       "      <th>tipus</th>\n",
       "      <th>area_ha</th>\n",
       "      <th>districte</th>\n",
       "      <th>mida</th>\n",
       "    </tr>\n",
       "  </thead>\n",
       "  <tbody>\n",
       "    <tr>\n",
       "      <th>0</th>\n",
       "      <td>Barcelona</td>\n",
       "      <td>Parc</td>\n",
       "      <td>0.895251</td>\n",
       "      <td>SANTS - MONTJUÏC</td>\n",
       "      <td>0.5 - 1 Ha</td>\n",
       "    </tr>\n",
       "    <tr>\n",
       "      <th>1</th>\n",
       "      <td>Barcelona</td>\n",
       "      <td>Parc</td>\n",
       "      <td>0.651736</td>\n",
       "      <td>SANTS - MONTJUÏC</td>\n",
       "      <td>0.5 - 1 Ha</td>\n",
       "    </tr>\n",
       "    <tr>\n",
       "      <th>2</th>\n",
       "      <td>Barcelona</td>\n",
       "      <td>Parc</td>\n",
       "      <td>0.702333</td>\n",
       "      <td>SANTS - MONTJUÏC</td>\n",
       "      <td>0.5 - 1 Ha</td>\n",
       "    </tr>\n",
       "    <tr>\n",
       "      <th>3</th>\n",
       "      <td>Barcelona</td>\n",
       "      <td>Parc</td>\n",
       "      <td>0.886938</td>\n",
       "      <td>SANTS - MONTJUÏC</td>\n",
       "      <td>0.5 - 1 Ha</td>\n",
       "    </tr>\n",
       "    <tr>\n",
       "      <th>4</th>\n",
       "      <td>Barcelona</td>\n",
       "      <td>Parc</td>\n",
       "      <td>1.939619</td>\n",
       "      <td>SANTS - MONTJUÏC</td>\n",
       "      <td>1 - 2 Ha</td>\n",
       "    </tr>\n",
       "    <tr>\n",
       "      <th>...</th>\n",
       "      <td>...</td>\n",
       "      <td>...</td>\n",
       "      <td>...</td>\n",
       "      <td>...</td>\n",
       "      <td>...</td>\n",
       "    </tr>\n",
       "    <tr>\n",
       "      <th>182</th>\n",
       "      <td>Barcelona</td>\n",
       "      <td>Parc</td>\n",
       "      <td>9.523963</td>\n",
       "      <td>LES CORTS</td>\n",
       "      <td>&gt;= 2 Ha</td>\n",
       "    </tr>\n",
       "    <tr>\n",
       "      <th>183</th>\n",
       "      <td>Barcelona</td>\n",
       "      <td>Parc</td>\n",
       "      <td>5.999060</td>\n",
       "      <td>LES CORTS</td>\n",
       "      <td>&gt;= 2 Ha</td>\n",
       "    </tr>\n",
       "    <tr>\n",
       "      <th>184</th>\n",
       "      <td>Barcelona</td>\n",
       "      <td>Parc</td>\n",
       "      <td>4.735619</td>\n",
       "      <td>SANT MARTÍ</td>\n",
       "      <td>&gt;= 2 Ha</td>\n",
       "    </tr>\n",
       "    <tr>\n",
       "      <th>185</th>\n",
       "      <td>Barcelona</td>\n",
       "      <td>Parc</td>\n",
       "      <td>1.786393</td>\n",
       "      <td>LES CORTS</td>\n",
       "      <td>1 - 2 Ha</td>\n",
       "    </tr>\n",
       "    <tr>\n",
       "      <th>189</th>\n",
       "      <td>Barcelona</td>\n",
       "      <td>Parc Històric</td>\n",
       "      <td>19.233211</td>\n",
       "      <td>GRÀCIA</td>\n",
       "      <td>&gt;= 2 Ha</td>\n",
       "    </tr>\n",
       "  </tbody>\n",
       "</table>\n",
       "<p>182 rows × 5 columns</p>\n",
       "</div>"
      ],
      "text/plain": [
       "      municipi          tipus    area_ha         districte        mida\n",
       "0    Barcelona           Parc   0.895251  SANTS - MONTJUÏC  0.5 - 1 Ha\n",
       "1    Barcelona           Parc   0.651736  SANTS - MONTJUÏC  0.5 - 1 Ha\n",
       "2    Barcelona           Parc   0.702333  SANTS - MONTJUÏC  0.5 - 1 Ha\n",
       "3    Barcelona           Parc   0.886938  SANTS - MONTJUÏC  0.5 - 1 Ha\n",
       "4    Barcelona           Parc   1.939619  SANTS - MONTJUÏC    1 - 2 Ha\n",
       "..         ...            ...        ...               ...         ...\n",
       "182  Barcelona           Parc   9.523963         LES CORTS     >= 2 Ha\n",
       "183  Barcelona           Parc   5.999060         LES CORTS     >= 2 Ha\n",
       "184  Barcelona           Parc   4.735619        SANT MARTÍ     >= 2 Ha\n",
       "185  Barcelona           Parc   1.786393         LES CORTS    1 - 2 Ha\n",
       "189  Barcelona  Parc Històric  19.233211            GRÀCIA     >= 2 Ha\n",
       "\n",
       "[182 rows x 5 columns]"
      ]
     },
     "execution_count": 24,
     "metadata": {},
     "output_type": "execute_result"
    }
   ],
   "source": [
    "public_green_spaces"
   ]
  },
  {
   "cell_type": "code",
   "execution_count": 25,
   "metadata": {},
   "outputs": [
    {
     "data": {
      "text/plain": [
       "Text(0.5, 1.0, 'Distribución de Tipos por Área')"
      ]
     },
     "execution_count": 25,
     "metadata": {},
     "output_type": "execute_result"
    },
    {
     "data": {
      "image/png": "[encoded data removed]",
      "text/plain": [
       "<Figure size 1000x400 with 1 Axes>"
      ]
     },
     "metadata": {},
     "output_type": "display_data"
    }
   ],
   "source": [
    "# Crear un scatter plot\n",
    "plt.figure(figsize=(10, 4))\n",
    "sns.scatterplot(x='area_ha', y ='districte', data = public_green_spaces, hue = 'tipus')#, hue = 'districte')\n",
    "\n",
    "# Añadir etiquetas y título\n",
    "plt.xlabel('Área (ha)')\n",
    "plt.ylabel('Tipo')\n",
    "plt.title('Distribución de Tipos por Área')"
   ]
  },
  {
   "cell_type": "code",
   "execution_count": 26,
   "metadata": {},
   "outputs": [
    {
     "data": {
      "text/html": [
       "<div>\n",
       "<style scoped>\n",
       "    .dataframe tbody tr th:only-of-type {\n",
       "        vertical-align: middle;\n",
       "    }\n",
       "\n",
       "    .dataframe tbody tr th {\n",
       "        vertical-align: top;\n",
       "    }\n",
       "\n",
       "    .dataframe thead th {\n",
       "        text-align: right;\n",
       "    }\n",
       "</style>\n",
       "<table border=\"1\" class=\"dataframe\">\n",
       "  <thead>\n",
       "    <tr style=\"text-align: right;\">\n",
       "      <th></th>\n",
       "      <th>districte</th>\n",
       "      <th>area_ha</th>\n",
       "    </tr>\n",
       "  </thead>\n",
       "  <tbody>\n",
       "    <tr>\n",
       "      <th>0</th>\n",
       "      <td>CIUTAT VELLA</td>\n",
       "      <td>22.396868</td>\n",
       "    </tr>\n",
       "    <tr>\n",
       "      <th>1</th>\n",
       "      <td>EIXAMPLE</td>\n",
       "      <td>20.451269</td>\n",
       "    </tr>\n",
       "    <tr>\n",
       "      <th>2</th>\n",
       "      <td>GRÀCIA</td>\n",
       "      <td>23.687086</td>\n",
       "    </tr>\n",
       "    <tr>\n",
       "      <th>3</th>\n",
       "      <td>HORTA - GUINARDÓ</td>\n",
       "      <td>44.475658</td>\n",
       "    </tr>\n",
       "    <tr>\n",
       "      <th>4</th>\n",
       "      <td>LES CORTS</td>\n",
       "      <td>28.730638</td>\n",
       "    </tr>\n",
       "    <tr>\n",
       "      <th>5</th>\n",
       "      <td>NOU BARRIS - SANT ANDREU</td>\n",
       "      <td>72.250494</td>\n",
       "    </tr>\n",
       "    <tr>\n",
       "      <th>6</th>\n",
       "      <td>SANT MARTÍ</td>\n",
       "      <td>76.352854</td>\n",
       "    </tr>\n",
       "    <tr>\n",
       "      <th>7</th>\n",
       "      <td>SANTS - MONTJUÏC</td>\n",
       "      <td>90.776644</td>\n",
       "    </tr>\n",
       "    <tr>\n",
       "      <th>8</th>\n",
       "      <td>SARRIÀ - SANT GERVASI</td>\n",
       "      <td>71.190508</td>\n",
       "    </tr>\n",
       "  </tbody>\n",
       "</table>\n",
       "</div>"
      ],
      "text/plain": [
       "                  districte    area_ha\n",
       "0              CIUTAT VELLA  22.396868\n",
       "1                  EIXAMPLE  20.451269\n",
       "2                    GRÀCIA  23.687086\n",
       "3          HORTA - GUINARDÓ  44.475658\n",
       "4                 LES CORTS  28.730638\n",
       "5  NOU BARRIS - SANT ANDREU  72.250494\n",
       "6                SANT MARTÍ  76.352854\n",
       "7          SANTS - MONTJUÏC  90.776644\n",
       "8     SARRIÀ - SANT GERVASI  71.190508"
      ]
     },
     "execution_count": 26,
     "metadata": {},
     "output_type": "execute_result"
    }
   ],
   "source": [
    "public_green_spaces = public_green_spaces.groupby ('districte')['area_ha'].sum ().reset_index ()\n",
    "public_green_spaces"
   ]
  },
  {
   "cell_type": "code",
   "execution_count": 27,
   "metadata": {},
   "outputs": [],
   "source": [
    "public_green_spaces = public_green_spaces.rename (columns = {'districte':'DISTRICT', 'area_ha':'GREEN_AREA'})"
   ]
  },
  {
   "cell_type": "code",
   "execution_count": 28,
   "metadata": {},
   "outputs": [],
   "source": [
    "green_spaces = public_green_spaces.reset_index(drop=True)"
   ]
  },
  {
   "cell_type": "code",
   "execution_count": 29,
   "metadata": {},
   "outputs": [
    {
     "data": {
      "text/html": [
       "<div>\n",
       "<style scoped>\n",
       "    .dataframe tbody tr th:only-of-type {\n",
       "        vertical-align: middle;\n",
       "    }\n",
       "\n",
       "    .dataframe tbody tr th {\n",
       "        vertical-align: top;\n",
       "    }\n",
       "\n",
       "    .dataframe thead th {\n",
       "        text-align: right;\n",
       "    }\n",
       "</style>\n",
       "<table border=\"1\" class=\"dataframe\">\n",
       "  <thead>\n",
       "    <tr style=\"text-align: right;\">\n",
       "      <th></th>\n",
       "      <th>DISTRICT</th>\n",
       "      <th>GREEN_AREA</th>\n",
       "    </tr>\n",
       "  </thead>\n",
       "  <tbody>\n",
       "    <tr>\n",
       "      <th>0</th>\n",
       "      <td>CIUTAT VELLA</td>\n",
       "      <td>22.396868</td>\n",
       "    </tr>\n",
       "    <tr>\n",
       "      <th>1</th>\n",
       "      <td>EIXAMPLE</td>\n",
       "      <td>20.451269</td>\n",
       "    </tr>\n",
       "    <tr>\n",
       "      <th>2</th>\n",
       "      <td>GRÀCIA</td>\n",
       "      <td>23.687086</td>\n",
       "    </tr>\n",
       "    <tr>\n",
       "      <th>3</th>\n",
       "      <td>HORTA - GUINARDÓ</td>\n",
       "      <td>44.475658</td>\n",
       "    </tr>\n",
       "    <tr>\n",
       "      <th>4</th>\n",
       "      <td>LES CORTS</td>\n",
       "      <td>28.730638</td>\n",
       "    </tr>\n",
       "    <tr>\n",
       "      <th>5</th>\n",
       "      <td>NOU BARRIS - SANT ANDREU</td>\n",
       "      <td>72.250494</td>\n",
       "    </tr>\n",
       "    <tr>\n",
       "      <th>6</th>\n",
       "      <td>SANT MARTÍ</td>\n",
       "      <td>76.352854</td>\n",
       "    </tr>\n",
       "    <tr>\n",
       "      <th>7</th>\n",
       "      <td>SANTS - MONTJUÏC</td>\n",
       "      <td>90.776644</td>\n",
       "    </tr>\n",
       "    <tr>\n",
       "      <th>8</th>\n",
       "      <td>SARRIÀ - SANT GERVASI</td>\n",
       "      <td>71.190508</td>\n",
       "    </tr>\n",
       "  </tbody>\n",
       "</table>\n",
       "</div>"
      ],
      "text/plain": [
       "                   DISTRICT  GREEN_AREA\n",
       "0              CIUTAT VELLA   22.396868\n",
       "1                  EIXAMPLE   20.451269\n",
       "2                    GRÀCIA   23.687086\n",
       "3          HORTA - GUINARDÓ   44.475658\n",
       "4                 LES CORTS   28.730638\n",
       "5  NOU BARRIS - SANT ANDREU   72.250494\n",
       "6                SANT MARTÍ   76.352854\n",
       "7          SANTS - MONTJUÏC   90.776644\n",
       "8     SARRIÀ - SANT GERVASI   71.190508"
      ]
     },
     "execution_count": 29,
     "metadata": {},
     "output_type": "execute_result"
    }
   ],
   "source": [
    "green_spaces"
   ]
  },
  {
   "cell_type": "markdown",
   "metadata": {},
   "source": [
    "# I will standardize the district areas for two reasons:\n",
    "\n",
    "- 1.Because they will serve as a comparison parameter.\n",
    "- 2.Because there are no measurement points for each of the Nou Barris and Sant Andreu districts, both were considered as a single district, thus adding more green area."
   ]
  },
  {
   "cell_type": "markdown",
   "metadata": {},
   "source": [
    "# WEB SCRAPING"
   ]
  },
  {
   "cell_type": "code",
   "execution_count": 30,
   "metadata": {},
   "outputs": [],
   "source": [
    "from bs4 import BeautifulSoup\n",
    "import requests\n",
    "import pandas as pd"
   ]
  },
  {
   "cell_type": "code",
   "execution_count": 31,
   "metadata": {},
   "outputs": [],
   "source": [
    "url = \"https://es.wikipedia.org/wiki/Distritos_de_Barcelona\"\n",
    "response = requests.get (url)"
   ]
  },
  {
   "cell_type": "code",
   "execution_count": 32,
   "metadata": {},
   "outputs": [
    {
     "data": {
      "text/plain": [
       "200"
      ]
     },
     "execution_count": 32,
     "metadata": {},
     "output_type": "execute_result"
    }
   ],
   "source": [
    "response.status_code"
   ]
  },
  {
   "cell_type": "code",
   "execution_count": 33,
   "metadata": {},
   "outputs": [],
   "source": [
    "soup = BeautifulSoup(response.content, \"html.parser\")"
   ]
  },
  {
   "cell_type": "code",
   "execution_count": 34,
   "metadata": {},
   "outputs": [],
   "source": [
    "district_area = {'DISTRICT' : [] , 'AREA' : []}"
   ]
  },
  {
   "cell_type": "code",
   "execution_count": 35,
   "metadata": {},
   "outputs": [
    {
     "data": {
      "text/plain": [
       "'Distrito de San Martín (Barcelona)'"
      ]
     },
     "execution_count": 35,
     "metadata": {},
     "output_type": "execute_result"
    }
   ],
   "source": [
    "soup.find_all ('b')[18]('a')[0]['title']"
   ]
  },
  {
   "cell_type": "code",
   "execution_count": 36,
   "metadata": {},
   "outputs": [
    {
     "data": {
      "text/plain": [
       "'4,11\\n'"
      ]
     },
     "execution_count": 36,
     "metadata": {},
     "output_type": "execute_result"
    }
   ],
   "source": [
    "soup.find_all ('td')[3].get_text ()"
   ]
  },
  {
   "cell_type": "code",
   "execution_count": 37,
   "metadata": {},
   "outputs": [
    {
     "data": {
      "text/plain": [
       "'4,11'"
      ]
     },
     "execution_count": 37,
     "metadata": {},
     "output_type": "execute_result"
    }
   ],
   "source": [
    "soup.find_all ('td')[3].get_text ().strip ()"
   ]
  },
  {
   "cell_type": "code",
   "execution_count": 38,
   "metadata": {},
   "outputs": [
    {
     "data": {
      "text/plain": [
       "4.11"
      ]
     },
     "execution_count": 38,
     "metadata": {},
     "output_type": "execute_result"
    }
   ],
   "source": [
    "float(soup.find_all ('td')[3].get_text ().strip ().replace (',','.'))"
   ]
  },
  {
   "cell_type": "code",
   "execution_count": 39,
   "metadata": {},
   "outputs": [
    {
     "data": {
      "text/plain": [
       "{'DISTRICT': [], 'AREA': []}"
      ]
     },
     "execution_count": 39,
     "metadata": {},
     "output_type": "execute_result"
    }
   ],
   "source": [
    "district_area"
   ]
  },
  {
   "cell_type": "code",
   "execution_count": 40,
   "metadata": {},
   "outputs": [],
   "source": [
    "# I'm creating a loop to scrape all the relevant information.\n",
    "for i in range (9,19):\n",
    "    district_area['DISTRICT'].append(soup.find_all ('b')[i]('a')[0]['title'])\n",
    "    \n",
    "for i in range (3, 76, 8):\n",
    "    district_area ['AREA'].append (float(soup.find_all ('td')[i].get_text ().strip ().replace (',','.')))\n",
    "\n",
    "district_area = pd.DataFrame (district_area)"
   ]
  },
  {
   "cell_type": "code",
   "execution_count": 41,
   "metadata": {},
   "outputs": [
    {
     "data": {
      "text/html": [
       "<div>\n",
       "<style scoped>\n",
       "    .dataframe tbody tr th:only-of-type {\n",
       "        vertical-align: middle;\n",
       "    }\n",
       "\n",
       "    .dataframe tbody tr th {\n",
       "        vertical-align: top;\n",
       "    }\n",
       "\n",
       "    .dataframe thead th {\n",
       "        text-align: right;\n",
       "    }\n",
       "</style>\n",
       "<table border=\"1\" class=\"dataframe\">\n",
       "  <thead>\n",
       "    <tr style=\"text-align: right;\">\n",
       "      <th></th>\n",
       "      <th>DISTRICT</th>\n",
       "      <th>AREA</th>\n",
       "    </tr>\n",
       "  </thead>\n",
       "  <tbody>\n",
       "    <tr>\n",
       "      <th>0</th>\n",
       "      <td>Distrito de Ciudad Vieja (Barcelona)</td>\n",
       "      <td>4.11</td>\n",
       "    </tr>\n",
       "    <tr>\n",
       "      <th>1</th>\n",
       "      <td>Distrito del Ensanche</td>\n",
       "      <td>7.46</td>\n",
       "    </tr>\n",
       "    <tr>\n",
       "      <th>2</th>\n",
       "      <td>Distrito de Sants-Montjuïc</td>\n",
       "      <td>22.68</td>\n",
       "    </tr>\n",
       "    <tr>\n",
       "      <th>3</th>\n",
       "      <td>Distrito de Les Corts</td>\n",
       "      <td>6.02</td>\n",
       "    </tr>\n",
       "    <tr>\n",
       "      <th>4</th>\n",
       "      <td>Distrito de Sarriá-San Gervasio</td>\n",
       "      <td>19.91</td>\n",
       "    </tr>\n",
       "    <tr>\n",
       "      <th>5</th>\n",
       "      <td>Distrito de Gracia</td>\n",
       "      <td>4.19</td>\n",
       "    </tr>\n",
       "    <tr>\n",
       "      <th>6</th>\n",
       "      <td>Horta-Guinardó</td>\n",
       "      <td>11.96</td>\n",
       "    </tr>\n",
       "    <tr>\n",
       "      <th>7</th>\n",
       "      <td>Distrito de Nou Barris</td>\n",
       "      <td>8.05</td>\n",
       "    </tr>\n",
       "    <tr>\n",
       "      <th>8</th>\n",
       "      <td>Distrito de San Andrés (Barcelona)</td>\n",
       "      <td>6.59</td>\n",
       "    </tr>\n",
       "    <tr>\n",
       "      <th>9</th>\n",
       "      <td>Distrito de San Martín (Barcelona)</td>\n",
       "      <td>10.39</td>\n",
       "    </tr>\n",
       "  </tbody>\n",
       "</table>\n",
       "</div>"
      ],
      "text/plain": [
       "                               DISTRICT   AREA\n",
       "0  Distrito de Ciudad Vieja (Barcelona)   4.11\n",
       "1                 Distrito del Ensanche   7.46\n",
       "2            Distrito de Sants-Montjuïc  22.68\n",
       "3                 Distrito de Les Corts   6.02\n",
       "4       Distrito de Sarriá-San Gervasio  19.91\n",
       "5                    Distrito de Gracia   4.19\n",
       "6                        Horta-Guinardó  11.96\n",
       "7                Distrito de Nou Barris   8.05\n",
       "8    Distrito de San Andrés (Barcelona)   6.59\n",
       "9    Distrito de San Martín (Barcelona)  10.39"
      ]
     },
     "execution_count": 41,
     "metadata": {},
     "output_type": "execute_result"
    }
   ],
   "source": [
    "district_area"
   ]
  },
  {
   "cell_type": "markdown",
   "metadata": {},
   "source": [
    "District Area is in KM2"
   ]
  },
  {
   "cell_type": "code",
   "execution_count": 42,
   "metadata": {},
   "outputs": [
    {
     "data": {
      "text/html": [
       "<div>\n",
       "<style scoped>\n",
       "    .dataframe tbody tr th:only-of-type {\n",
       "        vertical-align: middle;\n",
       "    }\n",
       "\n",
       "    .dataframe tbody tr th {\n",
       "        vertical-align: top;\n",
       "    }\n",
       "\n",
       "    .dataframe thead th {\n",
       "        text-align: right;\n",
       "    }\n",
       "</style>\n",
       "<table border=\"1\" class=\"dataframe\">\n",
       "  <thead>\n",
       "    <tr style=\"text-align: right;\">\n",
       "      <th></th>\n",
       "      <th>DISTRICT</th>\n",
       "      <th>AREA</th>\n",
       "    </tr>\n",
       "  </thead>\n",
       "  <tbody>\n",
       "    <tr>\n",
       "      <th>0</th>\n",
       "      <td>CIUTAT VELLA</td>\n",
       "      <td>4.11</td>\n",
       "    </tr>\n",
       "    <tr>\n",
       "      <th>1</th>\n",
       "      <td>EIXAMPLE</td>\n",
       "      <td>7.46</td>\n",
       "    </tr>\n",
       "    <tr>\n",
       "      <th>2</th>\n",
       "      <td>SANTS - MONTJUÏC</td>\n",
       "      <td>22.68</td>\n",
       "    </tr>\n",
       "    <tr>\n",
       "      <th>3</th>\n",
       "      <td>LES CORTS</td>\n",
       "      <td>6.02</td>\n",
       "    </tr>\n",
       "    <tr>\n",
       "      <th>4</th>\n",
       "      <td>SARRIÀ - SANT GERVASI</td>\n",
       "      <td>19.91</td>\n",
       "    </tr>\n",
       "    <tr>\n",
       "      <th>5</th>\n",
       "      <td>GRÀCIA</td>\n",
       "      <td>4.19</td>\n",
       "    </tr>\n",
       "    <tr>\n",
       "      <th>6</th>\n",
       "      <td>HORTA - GUINARDÓ</td>\n",
       "      <td>11.96</td>\n",
       "    </tr>\n",
       "    <tr>\n",
       "      <th>7</th>\n",
       "      <td>NOU BARRIS - SANT ANDREU</td>\n",
       "      <td>8.05</td>\n",
       "    </tr>\n",
       "    <tr>\n",
       "      <th>8</th>\n",
       "      <td>NOU BARRIS - SANT ANDREU</td>\n",
       "      <td>6.59</td>\n",
       "    </tr>\n",
       "    <tr>\n",
       "      <th>9</th>\n",
       "      <td>SANT MARTÍ</td>\n",
       "      <td>10.39</td>\n",
       "    </tr>\n",
       "  </tbody>\n",
       "</table>\n",
       "</div>"
      ],
      "text/plain": [
       "                   DISTRICT   AREA\n",
       "0              CIUTAT VELLA   4.11\n",
       "1                  EIXAMPLE   7.46\n",
       "2          SANTS - MONTJUÏC  22.68\n",
       "3                 LES CORTS   6.02\n",
       "4     SARRIÀ - SANT GERVASI  19.91\n",
       "5                    GRÀCIA   4.19\n",
       "6          HORTA - GUINARDÓ  11.96\n",
       "7  NOU BARRIS - SANT ANDREU   8.05\n",
       "8  NOU BARRIS - SANT ANDREU   6.59\n",
       "9                SANT MARTÍ  10.39"
      ]
     },
     "execution_count": 42,
     "metadata": {},
     "output_type": "execute_result"
    }
   ],
   "source": [
    "district_area ['DISTRICT'] = district_area ['DISTRICT'].replace ({\n",
    "    'Distrito de San Martín (Barcelona)': 'SANT MARTÍ',\n",
    "    'Distrito de San Andrés (Barcelona)' : 'NOU BARRIS - SANT ANDREU',\n",
    "    'Distrito de Nou Barris': 'NOU BARRIS - SANT ANDREU',\n",
    "    'Horta-Guinardó': 'HORTA - GUINARDÓ',\n",
    "    'Distrito de Gracia' : 'GRÀCIA',\n",
    "    'Distrito de Sarriá-San Gervasio': 'SARRIÀ - SANT GERVASI',\n",
    "    'Distrito de Les Corts': 'LES CORTS',\n",
    "    'Distrito de Sants-Montjuïc' : 'SANTS - MONTJUÏC',\n",
    "    'Distrito del Ensanche': 'EIXAMPLE',\n",
    "    'Distrito de Ciudad Vieja (Barcelona)': 'CIUTAT VELLA'})\n",
    "\n",
    "district_area"
   ]
  },
  {
   "cell_type": "code",
   "execution_count": 43,
   "metadata": {},
   "outputs": [
    {
     "data": {
      "text/html": [
       "<div>\n",
       "<style scoped>\n",
       "    .dataframe tbody tr th:only-of-type {\n",
       "        vertical-align: middle;\n",
       "    }\n",
       "\n",
       "    .dataframe tbody tr th {\n",
       "        vertical-align: top;\n",
       "    }\n",
       "\n",
       "    .dataframe thead th {\n",
       "        text-align: right;\n",
       "    }\n",
       "</style>\n",
       "<table border=\"1\" class=\"dataframe\">\n",
       "  <thead>\n",
       "    <tr style=\"text-align: right;\">\n",
       "      <th></th>\n",
       "      <th>DISTRICT</th>\n",
       "      <th>AREA</th>\n",
       "    </tr>\n",
       "  </thead>\n",
       "  <tbody>\n",
       "    <tr>\n",
       "      <th>7</th>\n",
       "      <td>NOU BARRIS - SANT ANDREU</td>\n",
       "      <td>8.05</td>\n",
       "    </tr>\n",
       "    <tr>\n",
       "      <th>8</th>\n",
       "      <td>NOU BARRIS - SANT ANDREU</td>\n",
       "      <td>6.59</td>\n",
       "    </tr>\n",
       "  </tbody>\n",
       "</table>\n",
       "</div>"
      ],
      "text/plain": [
       "                   DISTRICT  AREA\n",
       "7  NOU BARRIS - SANT ANDREU  8.05\n",
       "8  NOU BARRIS - SANT ANDREU  6.59"
      ]
     },
     "execution_count": 43,
     "metadata": {},
     "output_type": "execute_result"
    }
   ],
   "source": [
    "district_area[district_area ['DISTRICT'] == 'NOU BARRIS - SANT ANDREU']"
   ]
  },
  {
   "cell_type": "code",
   "execution_count": 44,
   "metadata": {},
   "outputs": [
    {
     "data": {
      "text/plain": [
       "DISTRICT\n",
       "CIUTAT VELLA                 4.11\n",
       "EIXAMPLE                     7.46\n",
       "GRÀCIA                       4.19\n",
       "HORTA - GUINARDÓ            11.96\n",
       "LES CORTS                    6.02\n",
       "NOU BARRIS - SANT ANDREU    14.64\n",
       "SANT MARTÍ                  10.39\n",
       "SANTS - MONTJUÏC            22.68\n",
       "SARRIÀ - SANT GERVASI       19.91\n",
       "Name: AREA, dtype: float64"
      ]
     },
     "execution_count": 44,
     "metadata": {},
     "output_type": "execute_result"
    }
   ],
   "source": [
    "district_area.groupby ('DISTRICT')['AREA'].sum ()"
   ]
  },
  {
   "cell_type": "code",
   "execution_count": 45,
   "metadata": {},
   "outputs": [
    {
     "data": {
      "text/html": [
       "<div>\n",
       "<style scoped>\n",
       "    .dataframe tbody tr th:only-of-type {\n",
       "        vertical-align: middle;\n",
       "    }\n",
       "\n",
       "    .dataframe tbody tr th {\n",
       "        vertical-align: top;\n",
       "    }\n",
       "\n",
       "    .dataframe thead th {\n",
       "        text-align: right;\n",
       "    }\n",
       "</style>\n",
       "<table border=\"1\" class=\"dataframe\">\n",
       "  <thead>\n",
       "    <tr style=\"text-align: right;\">\n",
       "      <th></th>\n",
       "      <th>DISTRICT</th>\n",
       "      <th>AREA</th>\n",
       "    </tr>\n",
       "  </thead>\n",
       "  <tbody>\n",
       "    <tr>\n",
       "      <th>0</th>\n",
       "      <td>CIUTAT VELLA</td>\n",
       "      <td>4.11</td>\n",
       "    </tr>\n",
       "    <tr>\n",
       "      <th>1</th>\n",
       "      <td>EIXAMPLE</td>\n",
       "      <td>7.46</td>\n",
       "    </tr>\n",
       "    <tr>\n",
       "      <th>2</th>\n",
       "      <td>GRÀCIA</td>\n",
       "      <td>4.19</td>\n",
       "    </tr>\n",
       "    <tr>\n",
       "      <th>3</th>\n",
       "      <td>HORTA - GUINARDÓ</td>\n",
       "      <td>11.96</td>\n",
       "    </tr>\n",
       "    <tr>\n",
       "      <th>4</th>\n",
       "      <td>LES CORTS</td>\n",
       "      <td>6.02</td>\n",
       "    </tr>\n",
       "    <tr>\n",
       "      <th>5</th>\n",
       "      <td>NOU BARRIS - SANT ANDREU</td>\n",
       "      <td>14.64</td>\n",
       "    </tr>\n",
       "    <tr>\n",
       "      <th>6</th>\n",
       "      <td>SANT MARTÍ</td>\n",
       "      <td>10.39</td>\n",
       "    </tr>\n",
       "    <tr>\n",
       "      <th>7</th>\n",
       "      <td>SANTS - MONTJUÏC</td>\n",
       "      <td>22.68</td>\n",
       "    </tr>\n",
       "    <tr>\n",
       "      <th>8</th>\n",
       "      <td>SARRIÀ - SANT GERVASI</td>\n",
       "      <td>19.91</td>\n",
       "    </tr>\n",
       "  </tbody>\n",
       "</table>\n",
       "</div>"
      ],
      "text/plain": [
       "                   DISTRICT   AREA\n",
       "0              CIUTAT VELLA   4.11\n",
       "1                  EIXAMPLE   7.46\n",
       "2                    GRÀCIA   4.19\n",
       "3          HORTA - GUINARDÓ  11.96\n",
       "4                 LES CORTS   6.02\n",
       "5  NOU BARRIS - SANT ANDREU  14.64\n",
       "6                SANT MARTÍ  10.39\n",
       "7          SANTS - MONTJUÏC  22.68\n",
       "8     SARRIÀ - SANT GERVASI  19.91"
      ]
     },
     "execution_count": 45,
     "metadata": {},
     "output_type": "execute_result"
    }
   ],
   "source": [
    "district_area = district_area.groupby ('DISTRICT')['AREA'].sum ().reset_index ()\n",
    "district_area"
   ]
  },
  {
   "cell_type": "code",
   "execution_count": 46,
   "metadata": {},
   "outputs": [],
   "source": [
    "def km2_to_ha (x):\n",
    "    x = x * 100\n",
    "    return x"
   ]
  },
  {
   "cell_type": "code",
   "execution_count": 47,
   "metadata": {},
   "outputs": [],
   "source": [
    "district_area['AREA'] = list(map(km2_to_ha, district_area['AREA']))"
   ]
  },
  {
   "cell_type": "code",
   "execution_count": 48,
   "metadata": {},
   "outputs": [
    {
     "data": {
      "text/html": [
       "<div>\n",
       "<style scoped>\n",
       "    .dataframe tbody tr th:only-of-type {\n",
       "        vertical-align: middle;\n",
       "    }\n",
       "\n",
       "    .dataframe tbody tr th {\n",
       "        vertical-align: top;\n",
       "    }\n",
       "\n",
       "    .dataframe thead th {\n",
       "        text-align: right;\n",
       "    }\n",
       "</style>\n",
       "<table border=\"1\" class=\"dataframe\">\n",
       "  <thead>\n",
       "    <tr style=\"text-align: right;\">\n",
       "      <th></th>\n",
       "      <th>DISTRICT</th>\n",
       "      <th>AREA</th>\n",
       "    </tr>\n",
       "  </thead>\n",
       "  <tbody>\n",
       "    <tr>\n",
       "      <th>0</th>\n",
       "      <td>CIUTAT VELLA</td>\n",
       "      <td>411.0</td>\n",
       "    </tr>\n",
       "    <tr>\n",
       "      <th>1</th>\n",
       "      <td>EIXAMPLE</td>\n",
       "      <td>746.0</td>\n",
       "    </tr>\n",
       "    <tr>\n",
       "      <th>2</th>\n",
       "      <td>GRÀCIA</td>\n",
       "      <td>419.0</td>\n",
       "    </tr>\n",
       "    <tr>\n",
       "      <th>3</th>\n",
       "      <td>HORTA - GUINARDÓ</td>\n",
       "      <td>1196.0</td>\n",
       "    </tr>\n",
       "    <tr>\n",
       "      <th>4</th>\n",
       "      <td>LES CORTS</td>\n",
       "      <td>602.0</td>\n",
       "    </tr>\n",
       "    <tr>\n",
       "      <th>5</th>\n",
       "      <td>NOU BARRIS - SANT ANDREU</td>\n",
       "      <td>1464.0</td>\n",
       "    </tr>\n",
       "    <tr>\n",
       "      <th>6</th>\n",
       "      <td>SANT MARTÍ</td>\n",
       "      <td>1039.0</td>\n",
       "    </tr>\n",
       "    <tr>\n",
       "      <th>7</th>\n",
       "      <td>SANTS - MONTJUÏC</td>\n",
       "      <td>2268.0</td>\n",
       "    </tr>\n",
       "    <tr>\n",
       "      <th>8</th>\n",
       "      <td>SARRIÀ - SANT GERVASI</td>\n",
       "      <td>1991.0</td>\n",
       "    </tr>\n",
       "  </tbody>\n",
       "</table>\n",
       "</div>"
      ],
      "text/plain": [
       "                   DISTRICT    AREA\n",
       "0              CIUTAT VELLA   411.0\n",
       "1                  EIXAMPLE   746.0\n",
       "2                    GRÀCIA   419.0\n",
       "3          HORTA - GUINARDÓ  1196.0\n",
       "4                 LES CORTS   602.0\n",
       "5  NOU BARRIS - SANT ANDREU  1464.0\n",
       "6                SANT MARTÍ  1039.0\n",
       "7          SANTS - MONTJUÏC  2268.0\n",
       "8     SARRIÀ - SANT GERVASI  1991.0"
      ]
     },
     "execution_count": 48,
     "metadata": {},
     "output_type": "execute_result"
    }
   ],
   "source": [
    "district_area"
   ]
  },
  {
   "cell_type": "code",
   "execution_count": 50,
   "metadata": {},
   "outputs": [],
   "source": [
    "\n",
    "ratio_gs_area = pd.merge (district_area, green_spaces, how = 'left', on = 'DISTRICT')\n"
   ]
  },
  {
   "cell_type": "code",
   "execution_count": 51,
   "metadata": {},
   "outputs": [
    {
     "data": {
      "text/html": [
       "<div>\n",
       "<style scoped>\n",
       "    .dataframe tbody tr th:only-of-type {\n",
       "        vertical-align: middle;\n",
       "    }\n",
       "\n",
       "    .dataframe tbody tr th {\n",
       "        vertical-align: top;\n",
       "    }\n",
       "\n",
       "    .dataframe thead th {\n",
       "        text-align: right;\n",
       "    }\n",
       "</style>\n",
       "<table border=\"1\" class=\"dataframe\">\n",
       "  <thead>\n",
       "    <tr style=\"text-align: right;\">\n",
       "      <th></th>\n",
       "      <th>DISTRICT</th>\n",
       "      <th>AREA</th>\n",
       "      <th>GREEN_AREA</th>\n",
       "    </tr>\n",
       "  </thead>\n",
       "  <tbody>\n",
       "    <tr>\n",
       "      <th>0</th>\n",
       "      <td>CIUTAT VELLA</td>\n",
       "      <td>411.0</td>\n",
       "      <td>22.396868</td>\n",
       "    </tr>\n",
       "    <tr>\n",
       "      <th>1</th>\n",
       "      <td>EIXAMPLE</td>\n",
       "      <td>746.0</td>\n",
       "      <td>20.451269</td>\n",
       "    </tr>\n",
       "    <tr>\n",
       "      <th>2</th>\n",
       "      <td>GRÀCIA</td>\n",
       "      <td>419.0</td>\n",
       "      <td>23.687086</td>\n",
       "    </tr>\n",
       "    <tr>\n",
       "      <th>3</th>\n",
       "      <td>HORTA - GUINARDÓ</td>\n",
       "      <td>1196.0</td>\n",
       "      <td>44.475658</td>\n",
       "    </tr>\n",
       "    <tr>\n",
       "      <th>4</th>\n",
       "      <td>LES CORTS</td>\n",
       "      <td>602.0</td>\n",
       "      <td>28.730638</td>\n",
       "    </tr>\n",
       "    <tr>\n",
       "      <th>5</th>\n",
       "      <td>NOU BARRIS - SANT ANDREU</td>\n",
       "      <td>1464.0</td>\n",
       "      <td>72.250494</td>\n",
       "    </tr>\n",
       "    <tr>\n",
       "      <th>6</th>\n",
       "      <td>SANT MARTÍ</td>\n",
       "      <td>1039.0</td>\n",
       "      <td>76.352854</td>\n",
       "    </tr>\n",
       "    <tr>\n",
       "      <th>7</th>\n",
       "      <td>SANTS - MONTJUÏC</td>\n",
       "      <td>2268.0</td>\n",
       "      <td>90.776644</td>\n",
       "    </tr>\n",
       "    <tr>\n",
       "      <th>8</th>\n",
       "      <td>SARRIÀ - SANT GERVASI</td>\n",
       "      <td>1991.0</td>\n",
       "      <td>71.190508</td>\n",
       "    </tr>\n",
       "  </tbody>\n",
       "</table>\n",
       "</div>"
      ],
      "text/plain": [
       "                   DISTRICT    AREA  GREEN_AREA\n",
       "0              CIUTAT VELLA   411.0   22.396868\n",
       "1                  EIXAMPLE   746.0   20.451269\n",
       "2                    GRÀCIA   419.0   23.687086\n",
       "3          HORTA - GUINARDÓ  1196.0   44.475658\n",
       "4                 LES CORTS   602.0   28.730638\n",
       "5  NOU BARRIS - SANT ANDREU  1464.0   72.250494\n",
       "6                SANT MARTÍ  1039.0   76.352854\n",
       "7          SANTS - MONTJUÏC  2268.0   90.776644\n",
       "8     SARRIÀ - SANT GERVASI  1991.0   71.190508"
      ]
     },
     "execution_count": 51,
     "metadata": {},
     "output_type": "execute_result"
    }
   ],
   "source": [
    "ratio_gs_area"
   ]
  },
  {
   "cell_type": "code",
   "execution_count": 52,
   "metadata": {},
   "outputs": [],
   "source": [
    "# I will merge the two dataframes.\n",
    "ratio_gs_area['RATIO'] = round (ratio_gs_area['GREEN_AREA']/ratio_gs_area['AREA'], 4)"
   ]
  },
  {
   "cell_type": "code",
   "execution_count": 53,
   "metadata": {},
   "outputs": [
    {
     "data": {
      "text/html": [
       "<div>\n",
       "<style scoped>\n",
       "    .dataframe tbody tr th:only-of-type {\n",
       "        vertical-align: middle;\n",
       "    }\n",
       "\n",
       "    .dataframe tbody tr th {\n",
       "        vertical-align: top;\n",
       "    }\n",
       "\n",
       "    .dataframe thead th {\n",
       "        text-align: right;\n",
       "    }\n",
       "</style>\n",
       "<table border=\"1\" class=\"dataframe\">\n",
       "  <thead>\n",
       "    <tr style=\"text-align: right;\">\n",
       "      <th></th>\n",
       "      <th>DISTRICT</th>\n",
       "      <th>AREA</th>\n",
       "      <th>GREEN_AREA</th>\n",
       "      <th>RATIO</th>\n",
       "    </tr>\n",
       "  </thead>\n",
       "  <tbody>\n",
       "    <tr>\n",
       "      <th>0</th>\n",
       "      <td>CIUTAT VELLA</td>\n",
       "      <td>411.0</td>\n",
       "      <td>22.396868</td>\n",
       "      <td>0.0545</td>\n",
       "    </tr>\n",
       "    <tr>\n",
       "      <th>1</th>\n",
       "      <td>EIXAMPLE</td>\n",
       "      <td>746.0</td>\n",
       "      <td>20.451269</td>\n",
       "      <td>0.0274</td>\n",
       "    </tr>\n",
       "    <tr>\n",
       "      <th>2</th>\n",
       "      <td>GRÀCIA</td>\n",
       "      <td>419.0</td>\n",
       "      <td>23.687086</td>\n",
       "      <td>0.0565</td>\n",
       "    </tr>\n",
       "    <tr>\n",
       "      <th>3</th>\n",
       "      <td>HORTA - GUINARDÓ</td>\n",
       "      <td>1196.0</td>\n",
       "      <td>44.475658</td>\n",
       "      <td>0.0372</td>\n",
       "    </tr>\n",
       "    <tr>\n",
       "      <th>4</th>\n",
       "      <td>LES CORTS</td>\n",
       "      <td>602.0</td>\n",
       "      <td>28.730638</td>\n",
       "      <td>0.0477</td>\n",
       "    </tr>\n",
       "    <tr>\n",
       "      <th>5</th>\n",
       "      <td>NOU BARRIS - SANT ANDREU</td>\n",
       "      <td>1464.0</td>\n",
       "      <td>72.250494</td>\n",
       "      <td>0.0494</td>\n",
       "    </tr>\n",
       "    <tr>\n",
       "      <th>6</th>\n",
       "      <td>SANT MARTÍ</td>\n",
       "      <td>1039.0</td>\n",
       "      <td>76.352854</td>\n",
       "      <td>0.0735</td>\n",
       "    </tr>\n",
       "    <tr>\n",
       "      <th>7</th>\n",
       "      <td>SANTS - MONTJUÏC</td>\n",
       "      <td>2268.0</td>\n",
       "      <td>90.776644</td>\n",
       "      <td>0.0400</td>\n",
       "    </tr>\n",
       "    <tr>\n",
       "      <th>8</th>\n",
       "      <td>SARRIÀ - SANT GERVASI</td>\n",
       "      <td>1991.0</td>\n",
       "      <td>71.190508</td>\n",
       "      <td>0.0358</td>\n",
       "    </tr>\n",
       "  </tbody>\n",
       "</table>\n",
       "</div>"
      ],
      "text/plain": [
       "                   DISTRICT    AREA  GREEN_AREA   RATIO\n",
       "0              CIUTAT VELLA   411.0   22.396868  0.0545\n",
       "1                  EIXAMPLE   746.0   20.451269  0.0274\n",
       "2                    GRÀCIA   419.0   23.687086  0.0565\n",
       "3          HORTA - GUINARDÓ  1196.0   44.475658  0.0372\n",
       "4                 LES CORTS   602.0   28.730638  0.0477\n",
       "5  NOU BARRIS - SANT ANDREU  1464.0   72.250494  0.0494\n",
       "6                SANT MARTÍ  1039.0   76.352854  0.0735\n",
       "7          SANTS - MONTJUÏC  2268.0   90.776644  0.0400\n",
       "8     SARRIÀ - SANT GERVASI  1991.0   71.190508  0.0358"
      ]
     },
     "execution_count": 53,
     "metadata": {},
     "output_type": "execute_result"
    }
   ],
   "source": [
    "ratio_gs_area"
   ]
  },
  {
   "cell_type": "code",
   "execution_count": 54,
   "metadata": {},
   "outputs": [
    {
     "data": {
      "text/plain": [
       "count    9.000000\n",
       "mean     0.046889\n",
       "std      0.013736\n",
       "min      0.027400\n",
       "25%      0.037200\n",
       "50%      0.047700\n",
       "75%      0.054500\n",
       "max      0.073500\n",
       "Name: RATIO, dtype: float64"
      ]
     },
     "execution_count": 54,
     "metadata": {},
     "output_type": "execute_result"
    }
   ],
   "source": [
    "ratio_gs_area['RATIO'].describe ()"
   ]
  },
  {
   "cell_type": "code",
   "execution_count": 55,
   "metadata": {},
   "outputs": [],
   "source": [
    "# I assign categorical variables to group the districts into quartiles.\n",
    "def area_group (x):\n",
    "    if x <= 0.037200:\n",
    "        return 'GREEN_AREA_Q1'\n",
    "    \n",
    "    if x <= 0.047700:\n",
    "        return 'GREEN_AREA_Q2'\n",
    "    \n",
    "    if x <= 0.054500:\n",
    "        return 'GREEN_AREA_Q3'\n",
    "    \n",
    "    if x > 0.054500:\n",
    "        return 'GREEN_AREA_Q4'\n",
    "    else:\n",
    "        return x\n"
   ]
  },
  {
   "cell_type": "code",
   "execution_count": 56,
   "metadata": {},
   "outputs": [],
   "source": [
    "ratio_gs_area['RATIO'] = list(map(area_group, ratio_gs_area['RATIO']))"
   ]
  },
  {
   "cell_type": "code",
   "execution_count": 57,
   "metadata": {},
   "outputs": [
    {
     "data": {
      "text/plain": [
       "array(['GREEN_AREA_Q3', 'GREEN_AREA_Q1', 'GREEN_AREA_Q4', 'GREEN_AREA_Q2'],\n",
       "      dtype=object)"
      ]
     },
     "execution_count": 57,
     "metadata": {},
     "output_type": "execute_result"
    }
   ],
   "source": [
    "ratio_gs_area['RATIO'].unique ()"
   ]
  },
  {
   "cell_type": "code",
   "execution_count": 58,
   "metadata": {},
   "outputs": [],
   "source": [
    "ratio_gs_area.to_csv('ratio_gs_area.csv', index=False)"
   ]
  }
 ],
 "metadata": {
  "kernelspec": {
   "display_name": "Ironhack",
   "language": "python",
   "name": "python3"
  },
  "language_info": {
   "codemirror_mode": {
    "name": "ipython",
    "version": 3
   },
   "file_extension": ".py",
   "mimetype": "text/x-python",
   "name": "python",
   "nbconvert_exporter": "python",
   "pygments_lexer": "ipython3",
   "version": "3.10.11"
  }
 },
 "nbformat": 4,
 "nbformat_minor": 2
}
